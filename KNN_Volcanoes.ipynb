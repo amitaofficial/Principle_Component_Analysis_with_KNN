{
  "nbformat": 4,
  "nbformat_minor": 0,
  "metadata": {
    "colab": {
      "name": "KNN_Volcanoes.ipynb",
      "provenance": [],
      "collapsed_sections": []
    },
    "kernelspec": {
      "name": "python3",
      "display_name": "Python 3"
    },
    "language_info": {
      "name": "python"
    }
  },
  "cells": [
    {
      "cell_type": "code",
      "source": [
        "# Program to do KNN classification after PCA feature reduction\n",
        "# Author - Amita\n",
        "\n",
        "# Please keep all the given csv files and the program file in the same folder\n",
        "# Please make sure to execute PCA first and get the files '100_dim_train_data.csv' and\n",
        "#   and '100_dim_test_data.csv' \n",
        "# Please make sure 'train_labels.csv' and 'test_labels.csv' are also present"
      ],
      "metadata": {
        "id": "0d1Xgt9DhGlM"
      },
      "execution_count": null,
      "outputs": []
    },
    {
      "cell_type": "code",
      "execution_count": null,
      "metadata": {
        "id": "WoSKBZAPoZS5"
      },
      "outputs": [],
      "source": [
        "import numpy as np\n",
        "import csv\n",
        "import pandas as pd\n",
        "\n",
        "######### train image data reading #############\n",
        "\n",
        "train_x_data = pd.read_csv('1_dim_train_data.csv', header=None)\n",
        "train_x_data = train_x_data.to_numpy()\n",
        "# print('train_x_data',train_x_data)\n"
      ]
    },
    {
      "cell_type": "code",
      "source": [
        "######### train label data reading #############\n",
        "\n",
        "train_y_data = pd.read_csv('train_labels.csv', header=None)\n",
        "train_y_data.fillna('0', inplace=True) #replace nan with 0 \n",
        "train_y_data = train_y_data.to_numpy() #convert to numpy\n",
        "train_y_data = train_y_data[:,1] #get only second column of labels\n",
        "train_y_data = np.delete(train_y_data, (0), axis=0)#delete the header 'volcano'\n",
        "# print(train_y_data)"
      ],
      "metadata": {
        "id": "kJNem4Jho257"
      },
      "execution_count": null,
      "outputs": []
    },
    {
      "cell_type": "code",
      "source": [
        "######### test image data reading #############\n",
        "\n",
        "test_x_data = pd.read_csv('1_dim_test_data.csv', header=None)\n",
        "test_x_data = test_x_data.to_numpy()\n"
      ],
      "metadata": {
        "id": "yT2GLHzEp1fb"
      },
      "execution_count": 32,
      "outputs": []
    },
    {
      "cell_type": "code",
      "source": [
        "######### test label data reading #############\n",
        "\n",
        "test_y_data = pd.read_csv('test_labels.csv', header=None)\n",
        "test_y_data.fillna('0', inplace=True)\n",
        "test_y_data = test_y_data.to_numpy()\n",
        "test_y_data = test_y_data[:,1] #get only second column of labels\n",
        "test_y_data = np.delete(test_y_data, (0), axis=0)#delete the header 'volcano'"
      ],
      "metadata": {
        "id": "gHq0Fy9rGXb_"
      },
      "execution_count": 33,
      "outputs": []
    },
    {
      "cell_type": "code",
      "source": [
        "import math\n",
        "k = 1\n",
        "\n",
        "tt1 = 0\n",
        "labels = []\n",
        "for j in range(len(test_x_data)): #give each test data for predicting\n",
        "  votes = []\n",
        "  x = test_x_data[j]\n",
        "  output_data = []\n",
        "  ############ k - NN ###########\n",
        "  for i in range(len(train_x_data)):\n",
        "    data = train_x_data[i]\n",
        "    cartesian_dist = np.linalg.norm(data - x) #calculate cartesian distance\n",
        "    output_data.append([cartesian_dist,i]) #append distance and index\n",
        "  \n",
        "  output_data.sort() #sort the data to get smallest distance first\n",
        "  \n",
        "  #get the class label of each of the calculated distances\n",
        "  final_class = []\n",
        "  weights = []\n",
        "  for j in range(k): #get the closest neighbours\n",
        "    index = output_data[j][1] #getting second element which is index\n",
        "    distance = output_data[j][0] #getting first element which is cartesian distance\n",
        "    if( distance == 0):\n",
        "      distance = 0.000001 #to avoid division by zero\n",
        "    weights.append(1/distance) #get weights of neighbours\n",
        "    y = train_y_data[index] #get label\n",
        "    final_class.append(y) #append class labels of neighbours\n",
        "\n",
        "  ################ KNN weighted voting ###################\n",
        "  vote_1 = 0 \n",
        "  vote_2 = 0\n",
        "  vote_3 = 0\n",
        "  vote_4 = 0\n",
        "  no_vote = 0 # for Type 0 i.e no volcano \n",
        "  final_vote = 0\n",
        "  predicted_label = ''\n",
        "  for i in range(len(weights)):\n",
        "    if(int(final_class[i]) == 1):\n",
        "      vote_1 += weights[i] # voting for label 1\n",
        "    if(int(final_class[i]) == 2):\n",
        "      vote_2 += weights[i] # voting for label 2\n",
        "    if(int(final_class[i]) == 3):\n",
        "      vote_3 += weights[i] # voting for label 3\n",
        "    if(int(final_class[i]) == 4):\n",
        "      vote_4 += weights[i] # voting for label 4\n",
        "    else:\n",
        "      no_vote += weights[i] # voting for label 0\n",
        "  \n",
        "  #get the highest vote and assign the appr0priate label\n",
        "  votes = [vote_1,vote_2,vote_3,vote_4,no_vote]\n",
        "  max_vote = max(votes) \n",
        "  if(max_vote == vote_1):\n",
        "    predicted_label = 1\n",
        "  elif(max_vote == vote_2):\n",
        "    predicted_label = 2\n",
        "  elif(max_vote == vote_3):\n",
        "    predicted_label = 3\n",
        "  elif(max_vote == vote_4):\n",
        "    predicted_label = 4\n",
        "  else:\n",
        "    predicted_label = 0\n",
        "\n",
        "  labels.append(predicted_label)\n",
        "  tt1 += 1\n",
        "  print('test data:',tt1) # printing to track the execution "
      ],
      "metadata": {
        "id": "68nFuL-ypF5R"
      },
      "execution_count": null,
      "outputs": []
    },
    {
      "cell_type": "code",
      "source": [
        "#code to track how many Type 1, 2 ,3 ,4 volcanoes are actually labeled correctly\n",
        "\n",
        "correct = 0 #total no of correct predictions\n",
        "correct_1 = 0 #no of correct predictions for Type 1\n",
        "correct_2 = 0 #no of correct predictions for Type 2\n",
        "correct_3 = 0 #no of correct predictions for Type 3\n",
        "correct_4 = 0 #no of correct predictions for Type 4\n",
        "correct_0 = 0 #no of correct predictions for Type 0\n",
        "for g in range(len(test_y_data)):\n",
        "  test_label = test_y_data[g]\n",
        "  if(int(test_label) == labels[g]):\n",
        "    correct += 1\n",
        "    if(labels[g] == 1): # Type 1\n",
        "      correct_1 += 1\n",
        "    elif(labels[g] == 2): #Type 2\n",
        "      correct_2 += 1\n",
        "    elif(labels[g] == 3): #Type 3\n",
        "      correct_3 += 1\n",
        "    elif(labels[g] == 4): # Type 4\n",
        "      correct_4 += 1\n",
        "    elif(labels[g] == 0):# Type 0\n",
        "      correct_0 += 1\n",
        "\n",
        "print('Total accuracy is :',correct/len(test_y_data))\n"
      ],
      "metadata": {
        "id": "XNlLUVxHgrnD"
      },
      "execution_count": null,
      "outputs": []
    },
    {
      "cell_type": "code",
      "source": [
        "print('correct_1:',correct_1)\n",
        "print('correct_2:',correct_2)\n",
        "print('correct_3:',correct_3)\n",
        "print('correct_4:',correct_4)\n",
        "print('correct_0:',correct_0)"
      ],
      "metadata": {
        "id": "qWyn3xOPMH4D"
      },
      "execution_count": null,
      "outputs": []
    }
  ]
}
